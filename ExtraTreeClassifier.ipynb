{
 "cells": [
  {
   "cell_type": "code",
   "execution_count": 1,
   "metadata": {},
   "outputs": [
    {
     "name": "stderr",
     "output_type": "stream",
     "text": [
      "C:\\Users\\ARAVIND NACHIAPPAN\\Anaconda3\\lib\\site-packages\\dask\\dataframe\\utils.py:14: FutureWarning: pandas.util.testing is deprecated. Use the functions in the public API at pandas.testing instead.\n",
      "  import pandas.util.testing as tm\n",
      "C:\\Users\\ARAVIND NACHIAPPAN\\Anaconda3\\lib\\site-packages\\sklearn\\utils\\deprecation.py:144: FutureWarning: The sklearn.neighbors.base module is  deprecated in version 0.22 and will be removed in version 0.24. The corresponding classes / functions should instead be imported from sklearn.neighbors. Anything that cannot be imported from sklearn.neighbors is now part of the private API.\n",
      "  warnings.warn(message, FutureWarning)\n",
      "C:\\Users\\ARAVIND NACHIAPPAN\\Anaconda3\\lib\\site-packages\\sklearn\\utils\\deprecation.py:144: FutureWarning: The sklearn.ensemble.bagging module is  deprecated in version 0.22 and will be removed in version 0.24. The corresponding classes / functions should instead be imported from sklearn.ensemble. Anything that cannot be imported from sklearn.ensemble is now part of the private API.\n",
      "  warnings.warn(message, FutureWarning)\n",
      "C:\\Users\\ARAVIND NACHIAPPAN\\Anaconda3\\lib\\site-packages\\sklearn\\utils\\deprecation.py:144: FutureWarning: The sklearn.ensemble.base module is  deprecated in version 0.22 and will be removed in version 0.24. The corresponding classes / functions should instead be imported from sklearn.ensemble. Anything that cannot be imported from sklearn.ensemble is now part of the private API.\n",
      "  warnings.warn(message, FutureWarning)\n",
      "C:\\Users\\ARAVIND NACHIAPPAN\\Anaconda3\\lib\\site-packages\\sklearn\\utils\\deprecation.py:144: FutureWarning: The sklearn.ensemble.forest module is  deprecated in version 0.22 and will be removed in version 0.24. The corresponding classes / functions should instead be imported from sklearn.ensemble. Anything that cannot be imported from sklearn.ensemble is now part of the private API.\n",
      "  warnings.warn(message, FutureWarning)\n",
      "Using TensorFlow backend.\n",
      "C:\\Users\\ARAVIND NACHIAPPAN\\Anaconda3\\lib\\site-packages\\sklearn\\utils\\deprecation.py:144: FutureWarning: The sklearn.utils.testing module is  deprecated in version 0.22 and will be removed in version 0.24. The corresponding classes / functions should instead be imported from sklearn.utils. Anything that cannot be imported from sklearn.utils is now part of the private API.\n",
      "  warnings.warn(message, FutureWarning)\n",
      "C:\\Users\\ARAVIND NACHIAPPAN\\Anaconda3\\lib\\site-packages\\sklearn\\utils\\deprecation.py:144: FutureWarning: The sklearn.metrics.classification module is  deprecated in version 0.22 and will be removed in version 0.24. The corresponding classes / functions should instead be imported from sklearn.metrics. Anything that cannot be imported from sklearn.metrics is now part of the private API.\n",
      "  warnings.warn(message, FutureWarning)\n"
     ]
    }
   ],
   "source": [
    "import pandas as pd\n",
    "import numpy as np\n",
    "from sklearn.model_selection import train_test_split,cross_val_score,GridSearchCV\n",
    "from sklearn.linear_model import LogisticRegression\n",
    "from sklearn.ensemble import RandomForestClassifier,GradientBoostingClassifier,AdaBoostClassifier,ExtraTreesClassifier\n",
    "from sklearn.svm import SVC\n",
    "from sklearn.tree import DecisionTreeClassifier\n",
    "from xgboost import XGBClassifier\n",
    "from sklearn.preprocessing import StandardScaler,MinMaxScaler\n",
    "from sklearn.naive_bayes import GaussianNB\n",
    "from imblearn.under_sampling import NearMiss\n",
    "from keras.models import Sequential\n",
    "from keras.layers import Dense\n",
    "from sklearn import metrics\n",
    "from sklearn.neighbors import KNeighborsClassifier\n",
    "import matplotlib.pyplot as plt\n",
    "import seaborn as sns\n",
    "%matplotlib inline\n",
    "from pandas_profiling import ProfileReport"
   ]
  },
  {
   "cell_type": "code",
   "execution_count": 2,
   "metadata": {},
   "outputs": [
    {
     "data": {
      "text/html": [
       "<div>\n",
       "<style scoped>\n",
       "    .dataframe tbody tr th:only-of-type {\n",
       "        vertical-align: middle;\n",
       "    }\n",
       "\n",
       "    .dataframe tbody tr th {\n",
       "        vertical-align: top;\n",
       "    }\n",
       "\n",
       "    .dataframe thead th {\n",
       "        text-align: right;\n",
       "    }\n",
       "</style>\n",
       "<table border=\"1\" class=\"dataframe\">\n",
       "  <thead>\n",
       "    <tr style=\"text-align: right;\">\n",
       "      <th></th>\n",
       "      <th>Loan_ID</th>\n",
       "      <th>Gender</th>\n",
       "      <th>Married</th>\n",
       "      <th>Dependents</th>\n",
       "      <th>Education</th>\n",
       "      <th>Self_Employed</th>\n",
       "      <th>ApplicantIncome</th>\n",
       "      <th>CoapplicantIncome</th>\n",
       "      <th>LoanAmount</th>\n",
       "      <th>Loan_Amount_Term</th>\n",
       "      <th>Credit_History</th>\n",
       "      <th>Property_Area</th>\n",
       "      <th>Loan_Status</th>\n",
       "    </tr>\n",
       "  </thead>\n",
       "  <tbody>\n",
       "    <tr>\n",
       "      <th>0</th>\n",
       "      <td>LP001002</td>\n",
       "      <td>Male</td>\n",
       "      <td>No</td>\n",
       "      <td>0</td>\n",
       "      <td>Graduate</td>\n",
       "      <td>No</td>\n",
       "      <td>5849</td>\n",
       "      <td>0.0</td>\n",
       "      <td>NaN</td>\n",
       "      <td>360.0</td>\n",
       "      <td>1.0</td>\n",
       "      <td>Urban</td>\n",
       "      <td>Y</td>\n",
       "    </tr>\n",
       "    <tr>\n",
       "      <th>1</th>\n",
       "      <td>LP001003</td>\n",
       "      <td>Male</td>\n",
       "      <td>Yes</td>\n",
       "      <td>1</td>\n",
       "      <td>Graduate</td>\n",
       "      <td>No</td>\n",
       "      <td>4583</td>\n",
       "      <td>1508.0</td>\n",
       "      <td>128.0</td>\n",
       "      <td>360.0</td>\n",
       "      <td>1.0</td>\n",
       "      <td>Rural</td>\n",
       "      <td>N</td>\n",
       "    </tr>\n",
       "    <tr>\n",
       "      <th>2</th>\n",
       "      <td>LP001005</td>\n",
       "      <td>Male</td>\n",
       "      <td>Yes</td>\n",
       "      <td>0</td>\n",
       "      <td>Graduate</td>\n",
       "      <td>Yes</td>\n",
       "      <td>3000</td>\n",
       "      <td>0.0</td>\n",
       "      <td>66.0</td>\n",
       "      <td>360.0</td>\n",
       "      <td>1.0</td>\n",
       "      <td>Urban</td>\n",
       "      <td>Y</td>\n",
       "    </tr>\n",
       "    <tr>\n",
       "      <th>3</th>\n",
       "      <td>LP001006</td>\n",
       "      <td>Male</td>\n",
       "      <td>Yes</td>\n",
       "      <td>0</td>\n",
       "      <td>Not Graduate</td>\n",
       "      <td>No</td>\n",
       "      <td>2583</td>\n",
       "      <td>2358.0</td>\n",
       "      <td>120.0</td>\n",
       "      <td>360.0</td>\n",
       "      <td>1.0</td>\n",
       "      <td>Urban</td>\n",
       "      <td>Y</td>\n",
       "    </tr>\n",
       "    <tr>\n",
       "      <th>4</th>\n",
       "      <td>LP001008</td>\n",
       "      <td>Male</td>\n",
       "      <td>No</td>\n",
       "      <td>0</td>\n",
       "      <td>Graduate</td>\n",
       "      <td>No</td>\n",
       "      <td>6000</td>\n",
       "      <td>0.0</td>\n",
       "      <td>141.0</td>\n",
       "      <td>360.0</td>\n",
       "      <td>1.0</td>\n",
       "      <td>Urban</td>\n",
       "      <td>Y</td>\n",
       "    </tr>\n",
       "    <tr>\n",
       "      <th>...</th>\n",
       "      <td>...</td>\n",
       "      <td>...</td>\n",
       "      <td>...</td>\n",
       "      <td>...</td>\n",
       "      <td>...</td>\n",
       "      <td>...</td>\n",
       "      <td>...</td>\n",
       "      <td>...</td>\n",
       "      <td>...</td>\n",
       "      <td>...</td>\n",
       "      <td>...</td>\n",
       "      <td>...</td>\n",
       "      <td>...</td>\n",
       "    </tr>\n",
       "    <tr>\n",
       "      <th>609</th>\n",
       "      <td>LP002978</td>\n",
       "      <td>Female</td>\n",
       "      <td>No</td>\n",
       "      <td>0</td>\n",
       "      <td>Graduate</td>\n",
       "      <td>No</td>\n",
       "      <td>2900</td>\n",
       "      <td>0.0</td>\n",
       "      <td>71.0</td>\n",
       "      <td>360.0</td>\n",
       "      <td>1.0</td>\n",
       "      <td>Rural</td>\n",
       "      <td>Y</td>\n",
       "    </tr>\n",
       "    <tr>\n",
       "      <th>610</th>\n",
       "      <td>LP002979</td>\n",
       "      <td>Male</td>\n",
       "      <td>Yes</td>\n",
       "      <td>3+</td>\n",
       "      <td>Graduate</td>\n",
       "      <td>No</td>\n",
       "      <td>4106</td>\n",
       "      <td>0.0</td>\n",
       "      <td>40.0</td>\n",
       "      <td>180.0</td>\n",
       "      <td>1.0</td>\n",
       "      <td>Rural</td>\n",
       "      <td>Y</td>\n",
       "    </tr>\n",
       "    <tr>\n",
       "      <th>611</th>\n",
       "      <td>LP002983</td>\n",
       "      <td>Male</td>\n",
       "      <td>Yes</td>\n",
       "      <td>1</td>\n",
       "      <td>Graduate</td>\n",
       "      <td>No</td>\n",
       "      <td>8072</td>\n",
       "      <td>240.0</td>\n",
       "      <td>253.0</td>\n",
       "      <td>360.0</td>\n",
       "      <td>1.0</td>\n",
       "      <td>Urban</td>\n",
       "      <td>Y</td>\n",
       "    </tr>\n",
       "    <tr>\n",
       "      <th>612</th>\n",
       "      <td>LP002984</td>\n",
       "      <td>Male</td>\n",
       "      <td>Yes</td>\n",
       "      <td>2</td>\n",
       "      <td>Graduate</td>\n",
       "      <td>No</td>\n",
       "      <td>7583</td>\n",
       "      <td>0.0</td>\n",
       "      <td>187.0</td>\n",
       "      <td>360.0</td>\n",
       "      <td>1.0</td>\n",
       "      <td>Urban</td>\n",
       "      <td>Y</td>\n",
       "    </tr>\n",
       "    <tr>\n",
       "      <th>613</th>\n",
       "      <td>LP002990</td>\n",
       "      <td>Female</td>\n",
       "      <td>No</td>\n",
       "      <td>0</td>\n",
       "      <td>Graduate</td>\n",
       "      <td>Yes</td>\n",
       "      <td>4583</td>\n",
       "      <td>0.0</td>\n",
       "      <td>133.0</td>\n",
       "      <td>360.0</td>\n",
       "      <td>0.0</td>\n",
       "      <td>Semiurban</td>\n",
       "      <td>N</td>\n",
       "    </tr>\n",
       "  </tbody>\n",
       "</table>\n",
       "<p>614 rows × 13 columns</p>\n",
       "</div>"
      ],
      "text/plain": [
       "      Loan_ID  Gender Married Dependents     Education Self_Employed  \\\n",
       "0    LP001002    Male      No          0      Graduate            No   \n",
       "1    LP001003    Male     Yes          1      Graduate            No   \n",
       "2    LP001005    Male     Yes          0      Graduate           Yes   \n",
       "3    LP001006    Male     Yes          0  Not Graduate            No   \n",
       "4    LP001008    Male      No          0      Graduate            No   \n",
       "..        ...     ...     ...        ...           ...           ...   \n",
       "609  LP002978  Female      No          0      Graduate            No   \n",
       "610  LP002979    Male     Yes         3+      Graduate            No   \n",
       "611  LP002983    Male     Yes          1      Graduate            No   \n",
       "612  LP002984    Male     Yes          2      Graduate            No   \n",
       "613  LP002990  Female      No          0      Graduate           Yes   \n",
       "\n",
       "     ApplicantIncome  CoapplicantIncome  LoanAmount  Loan_Amount_Term  \\\n",
       "0               5849                0.0         NaN             360.0   \n",
       "1               4583             1508.0       128.0             360.0   \n",
       "2               3000                0.0        66.0             360.0   \n",
       "3               2583             2358.0       120.0             360.0   \n",
       "4               6000                0.0       141.0             360.0   \n",
       "..               ...                ...         ...               ...   \n",
       "609             2900                0.0        71.0             360.0   \n",
       "610             4106                0.0        40.0             180.0   \n",
       "611             8072              240.0       253.0             360.0   \n",
       "612             7583                0.0       187.0             360.0   \n",
       "613             4583                0.0       133.0             360.0   \n",
       "\n",
       "     Credit_History Property_Area Loan_Status  \n",
       "0               1.0         Urban           Y  \n",
       "1               1.0         Rural           N  \n",
       "2               1.0         Urban           Y  \n",
       "3               1.0         Urban           Y  \n",
       "4               1.0         Urban           Y  \n",
       "..              ...           ...         ...  \n",
       "609             1.0         Rural           Y  \n",
       "610             1.0         Rural           Y  \n",
       "611             1.0         Urban           Y  \n",
       "612             1.0         Urban           Y  \n",
       "613             0.0     Semiurban           N  \n",
       "\n",
       "[614 rows x 13 columns]"
      ]
     },
     "execution_count": 2,
     "metadata": {},
     "output_type": "execute_result"
    }
   ],
   "source": [
    "data=pd.read_csv(\"train_ctrUa4K.csv\")\n",
    "data"
   ]
  },
  {
   "cell_type": "code",
   "execution_count": 3,
   "metadata": {},
   "outputs": [],
   "source": [
    "data['Dependents']=data.Dependents.map({'0':'zero','1':'one','2':'two','3+':'three'})\n",
    "data['Credit_History']=data.Credit_History.map({0:'zero',1:'one'})\n",
    "data['Loan_Amount_Term']=data.Loan_Amount_Term.map({12:'one',36:'three',60:'five',84:'seven',120:'ten',180:'fifteen',240:'twenty',300:'twentyfive',360:'thirty',480:'forty'})"
   ]
  },
  {
   "cell_type": "code",
   "execution_count": 4,
   "metadata": {},
   "outputs": [],
   "source": [
    "for column in ('Gender','Married','Dependents','Self_Employed','Credit_History','Loan_Amount_Term'):\n",
    "    data[column].fillna(data[column].mode()[0],inplace=True)\n",
    "for column in ('LoanAmount','CoapplicantIncome','ApplicantIncome'):\n",
    "    data[column].fillna(data[column].median(),inplace=True)"
   ]
  },
  {
   "cell_type": "code",
   "execution_count": 5,
   "metadata": {},
   "outputs": [],
   "source": [
    "data['Education'] = data['Education'].str.replace(' ','_')"
   ]
  },
  {
   "cell_type": "code",
   "execution_count": 6,
   "metadata": {},
   "outputs": [],
   "source": [
    "data['Loan_Status']=data.Loan_Status.map({'Y':1,'N':0})\n",
    "Y=data['Loan_Status'].values\n",
    "data.drop(['Loan_Status'],axis=1,inplace=True)\n",
    "X=data[data.iloc[:,1:13].columns]\n",
    "X_train, X_test, y_train, y_test = train_test_split(X, Y, test_size=0.33, stratify=Y)"
   ]
  },
  {
   "cell_type": "code",
   "execution_count": 7,
   "metadata": {},
   "outputs": [
    {
     "name": "stdout",
     "output_type": "stream",
     "text": [
      "================================================== Gender ==================================================\n",
      "After vectorizations\n",
      "(411, 2) (411,)\n",
      "(203, 2) (203,)\n",
      "['female', 'male']\n",
      "\n",
      "================================================== Married ==================================================\n",
      "After vectorizations\n",
      "(411, 2) (411,)\n",
      "(203, 2) (203,)\n",
      "['no', 'yes']\n",
      "\n",
      "================================================== Dependents ==================================================\n",
      "After vectorizations\n",
      "(411, 4) (411,)\n",
      "(203, 4) (203,)\n",
      "['one', 'three', 'two', 'zero']\n",
      "\n",
      "================================================== Education ==================================================\n",
      "After vectorizations\n",
      "(411, 2) (411,)\n",
      "(203, 2) (203,)\n",
      "['graduate', 'not_graduate']\n",
      "\n",
      "================================================== Self_Employed ==================================================\n",
      "After vectorizations\n",
      "(411, 2) (411,)\n",
      "(203, 2) (203,)\n",
      "['no', 'yes']\n",
      "\n",
      "================================================== Property_Area ==================================================\n",
      "After vectorizations\n",
      "(411, 3) (411,)\n",
      "(203, 3) (203,)\n",
      "['rural', 'semiurban', 'urban']\n",
      "\n",
      "================================================== Loan_Amount_Term ==================================================\n",
      "After vectorizations\n",
      "(411, 9) (411,)\n",
      "(203, 9) (203,)\n",
      "['fifteen', 'five', 'forty', 'one', 'seven', 'ten', 'thirty', 'twenty', 'twentyfive']\n",
      "\n",
      "================================================== Credit_History ==================================================\n",
      "After vectorizations\n",
      "(411, 2) (411,)\n",
      "(203, 2) (203,)\n",
      "['one', 'zero']\n",
      "\n"
     ]
    }
   ],
   "source": [
    "from sklearn.feature_extraction.text import CountVectorizer\n",
    "print(\"=\"*50,\"Gender\",\"=\"*50)\n",
    "vectorizer = CountVectorizer()\n",
    "vectorizer.fit(X_train['Gender'].values) # fit has to happen only on train data\n",
    "\n",
    "# we use the fitted CountVectorizer to convert the text to vector\n",
    "X_train_Gender_ohe = vectorizer.transform(X_train['Gender'].values)\n",
    "X_test_Gender_ohe = vectorizer.transform(X_test['Gender'].values)\n",
    "\n",
    "print(\"After vectorizations\")\n",
    "print(X_train_Gender_ohe.shape, y_train.shape)\n",
    "print(X_test_Gender_ohe.shape, y_test.shape)\n",
    "print(vectorizer.get_feature_names())\n",
    "print()\n",
    "\n",
    "print(\"=\"*50,\"Married\",\"=\"*50)\n",
    "vectorizer = CountVectorizer()\n",
    "vectorizer.fit(X_train['Married'].values) # fit has to happen only on train data\n",
    "\n",
    "# we use the fitted CountVectorizer to convert the text to vector\n",
    "X_train_Married_ohe = vectorizer.transform(X_train['Married'].values)\n",
    "X_test_Married_ohe = vectorizer.transform(X_test['Married'].values)\n",
    "\n",
    "print(\"After vectorizations\")\n",
    "print(X_train_Married_ohe.shape, y_train.shape)\n",
    "print(X_test_Married_ohe.shape, y_test.shape)\n",
    "print(vectorizer.get_feature_names())\n",
    "print()\n",
    "\n",
    "print(\"=\"*50,\"Dependents\",\"=\"*50)\n",
    "vectorizer = CountVectorizer()\n",
    "vectorizer.fit(X_train['Dependents'].values) # fit has to happen only on train data\n",
    "\n",
    "# we use the fitted CountVectorizer to convert the text to vector\n",
    "X_train_Dependents_ohe = vectorizer.transform(X_train['Dependents'].values)\n",
    "X_test_Dependents_ohe = vectorizer.transform(X_test['Dependents'].values)\n",
    "\n",
    "print(\"After vectorizations\")\n",
    "print(X_train_Dependents_ohe.shape, y_train.shape)\n",
    "print(X_test_Dependents_ohe.shape, y_test.shape)\n",
    "print(vectorizer.get_feature_names())\n",
    "print()\n",
    "\n",
    "\n",
    "print(\"=\"*50,\"Education\",\"=\"*50)\n",
    "vectorizer = CountVectorizer()\n",
    "vectorizer.fit(X_train['Education'].values) # fit has to happen only on train data\n",
    "\n",
    "# we use the fitted CountVectorizer to convert the text to vector\n",
    "X_train_Education_ohe = vectorizer.transform(X_train['Education'].values)\n",
    "X_test_Education_ohe = vectorizer.transform(X_test['Education'].values)\n",
    "\n",
    "print(\"After vectorizations\")\n",
    "print(X_train_Education_ohe.shape, y_train.shape)\n",
    "print(X_test_Education_ohe.shape, y_test.shape)\n",
    "print(vectorizer.get_feature_names())\n",
    "print()\n",
    "\n",
    "\n",
    "print(\"=\"*50,\"Self_Employed\",\"=\"*50)\n",
    "vectorizer = CountVectorizer()\n",
    "vectorizer.fit(X_train['Self_Employed'].values) # fit has to happen only on train data\n",
    "\n",
    "# we use the fitted CountVectorizer to convert the text to vector\n",
    "X_train_Self_Employed_ohe = vectorizer.transform(X_train['Self_Employed'].values)\n",
    "X_test_Self_Employed_ohe = vectorizer.transform(X_test['Self_Employed'].values)\n",
    "\n",
    "print(\"After vectorizations\")\n",
    "print(X_train_Self_Employed_ohe.shape, y_train.shape)\n",
    "print(X_test_Self_Employed_ohe.shape, y_test.shape)\n",
    "print(vectorizer.get_feature_names())\n",
    "print()\n",
    "\n",
    "print(\"=\"*50,\"Property_Area\",\"=\"*50)\n",
    "vectorizer = CountVectorizer()\n",
    "vectorizer.fit(X_train['Property_Area'].values) # fit has to happen only on train data\n",
    "\n",
    "# we use the fitted CountVectorizer to convert the text to vector\n",
    "X_train_Property_Area_ohe = vectorizer.transform(X_train['Property_Area'].values)\n",
    "X_test_Property_Area_ohe = vectorizer.transform(X_test['Property_Area'].values)\n",
    "\n",
    "print(\"After vectorizations\")\n",
    "print(X_train_Property_Area_ohe.shape, y_train.shape)\n",
    "print(X_test_Property_Area_ohe.shape, y_test.shape)\n",
    "print(vectorizer.get_feature_names())\n",
    "print()\n",
    "\n",
    "print(\"=\"*50,\"Loan_Amount_Term\",\"=\"*50)\n",
    "vectorizer = CountVectorizer()\n",
    "vectorizer.fit(X_train['Loan_Amount_Term'].values) # fit has to happen only on train data\n",
    "\n",
    "# we use the fitted CountVectorizer to convert the text to vector\n",
    "X_train_Loan_Amount_Term_ohe = vectorizer.transform(X_train['Loan_Amount_Term'].values)\n",
    "X_test_Loan_Amount_Term_ohe = vectorizer.transform(X_test['Loan_Amount_Term'].values)\n",
    "\n",
    "print(\"After vectorizations\")\n",
    "print(X_train_Loan_Amount_Term_ohe.shape, y_train.shape)\n",
    "print(X_test_Loan_Amount_Term_ohe.shape, y_test.shape)\n",
    "print(vectorizer.get_feature_names())\n",
    "print()\n",
    "\n",
    "print(\"=\"*50,\"Credit_History\",\"=\"*50)\n",
    "vectorizer = CountVectorizer()\n",
    "vectorizer.fit(X_train['Credit_History'].values) # fit has to happen only on train data\n",
    "\n",
    "# we use the fitted CountVectorizer to convert the text to vector\n",
    "X_train_Credit_History_ohe = vectorizer.transform(X_train['Credit_History'].values)\n",
    "X_test_Credit_History_ohe = vectorizer.transform(X_test['Credit_History'].values)\n",
    "\n",
    "print(\"After vectorizations\")\n",
    "print(X_train_Credit_History_ohe.shape, y_train.shape)\n",
    "print(X_test_Credit_History_ohe.shape, y_test.shape)\n",
    "print(vectorizer.get_feature_names())\n",
    "print()\n"
   ]
  },
  {
   "cell_type": "code",
   "execution_count": 8,
   "metadata": {},
   "outputs": [
    {
     "name": "stdout",
     "output_type": "stream",
     "text": [
      "================================================== LoanAmount ==================================================\n",
      "After vectorizations\n",
      "(411, 1) (411,)\n",
      "(203, 1) (203,)\n",
      "\n",
      "================================================== ApplicantIncome ==================================================\n",
      "After vectorizations\n",
      "(411, 1) (411,)\n",
      "(203, 1) (203,)\n",
      "\n",
      "================================================== CoapplicantIncome ==================================================\n",
      "After vectorizations\n",
      "(411, 1) (411,)\n",
      "(203, 1) (203,)\n"
     ]
    }
   ],
   "source": [
    "from sklearn.preprocessing import Normalizer\n",
    "print(\"=\"*50,\"LoanAmount\",\"=\"*50)\n",
    "normalizer = Normalizer()\n",
    "normalizer.fit(X_train['LoanAmount'].values.reshape(1,-1))\n",
    "\n",
    "X_train_LoanAmount_norm = normalizer.transform(X_train['LoanAmount'].values.reshape(1,-1))\n",
    "X_test_LoanAmount_norm = normalizer.transform(X_test['LoanAmount'].values.reshape(1,-1))\n",
    "\n",
    "X_train_LoanAmount_norm = X_train_LoanAmount_norm.reshape(-1,1)\n",
    "X_test_LoanAmount_norm = X_test_LoanAmount_norm.reshape(-1,1)\n",
    "\n",
    "\n",
    "print(\"After vectorizations\")\n",
    "print(X_train_LoanAmount_norm.shape, y_train.shape)\n",
    "print(X_test_LoanAmount_norm.shape, y_test.shape)\n",
    "print()\n",
    "\n",
    "print(\"=\"*50,\"ApplicantIncome\",\"=\"*50)\n",
    "normalizer = Normalizer()\n",
    "normalizer.fit(X_train['ApplicantIncome'].values.reshape(1,-1))\n",
    "\n",
    "X_train_ApplicantIncome_norm = normalizer.transform(X_train['ApplicantIncome'].values.reshape(1,-1))\n",
    "X_test_ApplicantIncome_norm = normalizer.transform(X_test['ApplicantIncome'].values.reshape(1,-1))\n",
    "\n",
    "X_train_ApplicantIncome_norm = X_train_ApplicantIncome_norm.reshape(-1,1)\n",
    "X_test_ApplicantIncome_norm = X_test_ApplicantIncome_norm.reshape(-1,1)\n",
    "\n",
    "\n",
    "print(\"After vectorizations\")\n",
    "print(X_train_ApplicantIncome_norm.shape, y_train.shape)\n",
    "print(X_test_ApplicantIncome_norm.shape, y_test.shape)\n",
    "print()\n",
    "\n",
    "print(\"=\"*50,\"CoapplicantIncome\",\"=\"*50)\n",
    "normalizer = Normalizer()\n",
    "normalizer.fit(X_train['CoapplicantIncome'].values.reshape(1,-1))\n",
    "\n",
    "X_train_CoapplicantIncome_norm = normalizer.transform(X_train['CoapplicantIncome'].values.reshape(1,-1))\n",
    "X_test_CoapplicantIncome_norm = normalizer.transform(X_test['CoapplicantIncome'].values.reshape(1,-1))\n",
    "\n",
    "X_train_CoapplicantIncome_norm = X_train_CoapplicantIncome_norm.reshape(-1,1)\n",
    "X_test_CoapplicantIncome_norm = X_test_CoapplicantIncome_norm.reshape(-1,1)\n",
    "\n",
    "\n",
    "print(\"After vectorizations\")\n",
    "print(X_train_CoapplicantIncome_norm.shape, y_train.shape)\n",
    "print(X_test_CoapplicantIncome_norm.shape, y_test.shape)"
   ]
  },
  {
   "cell_type": "code",
   "execution_count": 9,
   "metadata": {},
   "outputs": [
    {
     "name": "stdout",
     "output_type": "stream",
     "text": [
      "Final Data matrix\n",
      "(411, 29) (411,)\n",
      "(203, 29) (203,)\n",
      "=============================================================================================================================\n"
     ]
    }
   ],
   "source": [
    "from scipy.sparse import hstack\n",
    "X_tr = hstack((X_train_Gender_ohe, X_train_Married_ohe, X_train_Dependents_ohe,X_train_Education_ohe,X_train_Self_Employed_ohe,X_train_Property_Area_ohe,X_train_Loan_Amount_Term_ohe,X_train_Credit_History_ohe,X_train_LoanAmount_norm,X_train_ApplicantIncome_norm,X_train_CoapplicantIncome_norm)).tocsr()\n",
    "X_te = hstack((X_test_Gender_ohe, X_test_Married_ohe, X_test_Dependents_ohe,X_test_Education_ohe,X_test_Self_Employed_ohe,X_test_Property_Area_ohe,X_test_Loan_Amount_Term_ohe,X_test_Credit_History_ohe,X_test_LoanAmount_norm,X_test_ApplicantIncome_norm,X_test_CoapplicantIncome_norm)).tocsr()\n",
    "\n",
    "print(\"Final Data matrix\")\n",
    "print(X_tr.shape, y_train.shape)\n",
    "print(X_te.shape, y_test.shape)\n",
    "print(\"=\"*125)"
   ]
  },
  {
   "cell_type": "code",
   "execution_count": 10,
   "metadata": {},
   "outputs": [
    {
     "data": {
      "text/plain": [
       "GridSearchCV(cv=10, error_score=nan,\n",
       "             estimator=ExtraTreesClassifier(bootstrap=False, ccp_alpha=0.0,\n",
       "                                            class_weight=None, criterion='gini',\n",
       "                                            max_depth=None, max_features='auto',\n",
       "                                            max_leaf_nodes=None,\n",
       "                                            max_samples=None,\n",
       "                                            min_impurity_decrease=0.0,\n",
       "                                            min_impurity_split=None,\n",
       "                                            min_samples_leaf=1,\n",
       "                                            min_samples_split=2,\n",
       "                                            min_weight_fraction_leaf=0.0,\n",
       "                                            n_estimators=100, n_jobs=None,\n",
       "                                            oob_score=False, random_state=None,\n",
       "                                            verbose=0, warm_start=False),\n",
       "             iid='deprecated', n_jobs=None,\n",
       "             param_grid={'criterion': ['entropy', 'gini'],\n",
       "                         'max_depth': [1, 2, 3, 4, 5, 6, 7, 8, 9, 10],\n",
       "                         'min_samples_leaf': [1, 2, 3, 4, 5, 6, 7, 8, 9, 10],\n",
       "                         'min_samples_split': [10, 100, 150, 200, 250]},\n",
       "             pre_dispatch='2*n_jobs', refit=True, return_train_score=False,\n",
       "             scoring=None, verbose=0)"
      ]
     },
     "execution_count": 10,
     "metadata": {},
     "output_type": "execute_result"
    }
   ],
   "source": [
    "min_sample_leaf_val=[1,2,3,4,5,6,7,8,9,10]\n",
    "criterion_val=['entropy','gini']\n",
    "max_depth=[1,2,3,4,5,6,7,8,9,10]\n",
    "min_samples_split=[10,100,150,200,250]\n",
    "param_grid = {'max_depth':max_depth,'criterion':criterion_val,'min_samples_leaf':min_sample_leaf_val,'min_samples_split':min_samples_split}\n",
    "ET_model=ExtraTreesClassifier()\n",
    "clf = GridSearchCV(estimator=ET_model, param_grid=param_grid, cv=10)\n",
    "clf.fit(X_tr,y_train)"
   ]
  },
  {
   "cell_type": "code",
   "execution_count": 11,
   "metadata": {},
   "outputs": [
    {
     "name": "stdout",
     "output_type": "stream",
     "text": [
      "Best Hyperparameter:  {'criterion': 'entropy', 'max_depth': 5, 'min_samples_leaf': 10, 'min_samples_split': 250}\n"
     ]
    }
   ],
   "source": [
    "best_param=clf.best_params_\n",
    "print(\"Best Hyperparameter: \",best_param)\n",
    "max_depth_ET=best_param['max_depth']\n",
    "min_samples_split_ET=best_param['min_samples_split']\n",
    "min_samples_leaf_ET=best_param['min_samples_leaf']\n",
    "criterion_ET=best_param['criterion']"
   ]
  },
  {
   "cell_type": "code",
   "execution_count": 14,
   "metadata": {},
   "outputs": [
    {
     "data": {
      "image/png": "[encoded data removed]",
      "text/plain": [
       "<Figure size 432x288 with 1 Axes>"
      ]
     },
     "metadata": {
      "needs_background": "light"
     },
     "output_type": "display_data"
    }
   ],
   "source": [
    "from sklearn.metrics import roc_curve, auc\n",
    "\n",
    "\n",
    "ET_model= ExtraTreesClassifier(max_depth=max_depth_ET,min_samples_leaf=min_samples_leaf_ET,criterion=criterion_ET,min_samples_split=min_samples_split_ET)\n",
    "#DT = DecisionTreeClassifier(max_depth=50,min_samples_split=5)\n",
    "ET_model.fit(X_tr, y_train)\n",
    "\n",
    "\n",
    "y_train_pred = ET_model.predict_proba(X_tr)    \n",
    "y_test_pred = ET_model.predict_proba(X_te)\n",
    "\n",
    "train_fpr, train_tpr, tr_thresholds = roc_curve(y_train, y_train_pred[:,1])\n",
    "test_fpr, test_tpr, te_thresholds = roc_curve(y_test, y_test_pred[:,1])\n",
    "\n",
    "plt.plot(train_fpr, train_tpr, label=\"train AUC =\"+str(auc(train_fpr, train_tpr)))\n",
    "plt.plot(test_fpr, test_tpr, label=\"test AUC =\"+str(auc(test_fpr, test_tpr)))\n",
    "plt.legend()\n",
    "plt.xlabel(\"FPR\")\n",
    "plt.ylabel(\"TPR\")\n",
    "plt.title(\"AUC ROC Curve\")\n",
    "plt.grid()\n",
    "plt.show()"
   ]
  },
  {
   "cell_type": "code",
   "execution_count": 15,
   "metadata": {},
   "outputs": [
    {
     "name": "stdout",
     "output_type": "stream",
     "text": [
      "Recall for decision tree model: 0.9785714285714285\n",
      "Precision for decision tree model: 0.7784090909090909\n",
      "Accuracy for decision tree model: 0.7931034482758621\n",
      "F-score for decision tree model: 0.8670886075949368\n",
      "Log-loss for decision tree model: 7.146107354118357\n"
     ]
    }
   ],
   "source": [
    "ET_pred=ET_model.predict(X_te)\n",
    "print(\"Recall for decision tree model:\",metrics.recall_score(y_test,ET_pred))\n",
    "print(\"Precision for decision tree model:\",metrics.precision_score(y_test,ET_pred))\n",
    "print(\"Accuracy for decision tree model:\",metrics.accuracy_score(y_test,ET_pred))\n",
    "print(\"F-score for decision tree model:\",metrics.f1_score(y_test,ET_pred))\n",
    "print(\"Log-loss for decision tree model:\",metrics.log_loss(y_test,ET_pred))"
   ]
  },
  {
   "cell_type": "code",
   "execution_count": 17,
   "metadata": {},
   "outputs": [
    {
     "name": "stdout",
     "output_type": "stream",
     "text": [
      "[1.19138292e-04 8.76712426e-04 1.56193352e-02 1.81194095e-02\n",
      " 5.47846365e-05 1.01420269e-04 7.79219023e-03 2.14904469e-02\n",
      " 2.79479503e-02 4.52503722e-02 1.56726529e-03 1.87978339e-04\n",
      " 6.86446188e-02 1.49250113e-01 2.21932975e-02 1.31685242e-03\n",
      " 0.00000000e+00 0.00000000e+00 0.00000000e+00 0.00000000e+00\n",
      " 0.00000000e+00 3.46974341e-03 0.00000000e+00 0.00000000e+00\n",
      " 2.40970797e-01 3.73394894e-01 3.21559386e-04 1.75264358e-04\n",
      " 1.13585705e-03]\n"
     ]
    },
    {
     "data": {
      "text/plain": [
       "<411x22 sparse matrix of type '<class 'numpy.float64'>'\n",
       "\twith 4319 stored elements in Compressed Sparse Row format>"
      ]
     },
     "execution_count": 17,
     "metadata": {},
     "output_type": "execute_result"
    }
   ],
   "source": [
    "importances = ET_model.feature_importances_ \n",
    "print(importances)#array with importances of each feature\n",
    "ind = np.arange(0, X_tr.shape[1]) #create an index array, with the number of features\n",
    "#only keep features whose importance is greater than 0\n",
    "X_tr_features_to_keep_ET = X_tr[:,ind[importances>0]] \n",
    "X_te_features_to_keep_ET = X_te[:,ind[importances>0]]\n",
    "X_tr_features_to_keep_ET"
   ]
  },
  {
   "cell_type": "markdown",
   "metadata": {},
   "source": [
    "# LR on Extra Tree Classifier Features"
   ]
  },
  {
   "cell_type": "code",
   "execution_count": 18,
   "metadata": {},
   "outputs": [
    {
     "name": "stderr",
     "output_type": "stream",
     "text": [
      "C:\\Users\\ARAVIND NACHIAPPAN\\Anaconda3\\lib\\site-packages\\sklearn\\linear_model\\_logistic.py:940: ConvergenceWarning: lbfgs failed to converge (status=1):\n",
      "STOP: TOTAL NO. of ITERATIONS REACHED LIMIT.\n",
      "\n",
      "Increase the number of iterations (max_iter) or scale the data as shown in:\n",
      "    https://scikit-learn.org/stable/modules/preprocessing.html\n",
      "Please also refer to the documentation for alternative solver options:\n",
      "    https://scikit-learn.org/stable/modules/linear_model.html#logistic-regression\n",
      "  extra_warning_msg=_LOGISTIC_SOLVER_CONVERGENCE_MSG)\n",
      "C:\\Users\\ARAVIND NACHIAPPAN\\Anaconda3\\lib\\site-packages\\sklearn\\linear_model\\_logistic.py:940: ConvergenceWarning: lbfgs failed to converge (status=1):\n",
      "STOP: TOTAL NO. of ITERATIONS REACHED LIMIT.\n",
      "\n",
      "Increase the number of iterations (max_iter) or scale the data as shown in:\n",
      "    https://scikit-learn.org/stable/modules/preprocessing.html\n",
      "Please also refer to the documentation for alternative solver options:\n",
      "    https://scikit-learn.org/stable/modules/linear_model.html#logistic-regression\n",
      "  extra_warning_msg=_LOGISTIC_SOLVER_CONVERGENCE_MSG)\n",
      "C:\\Users\\ARAVIND NACHIAPPAN\\Anaconda3\\lib\\site-packages\\sklearn\\linear_model\\_logistic.py:940: ConvergenceWarning: lbfgs failed to converge (status=1):\n",
      "STOP: TOTAL NO. of ITERATIONS REACHED LIMIT.\n",
      "\n",
      "Increase the number of iterations (max_iter) or scale the data as shown in:\n",
      "    https://scikit-learn.org/stable/modules/preprocessing.html\n",
      "Please also refer to the documentation for alternative solver options:\n",
      "    https://scikit-learn.org/stable/modules/linear_model.html#logistic-regression\n",
      "  extra_warning_msg=_LOGISTIC_SOLVER_CONVERGENCE_MSG)\n"
     ]
    },
    {
     "data": {
      "text/plain": [
       "GridSearchCV(cv=10, error_score=nan,\n",
       "             estimator=LogisticRegression(C=1.0, class_weight=None, dual=False,\n",
       "                                          fit_intercept=True,\n",
       "                                          intercept_scaling=1, l1_ratio=None,\n",
       "                                          max_iter=100, multi_class='auto',\n",
       "                                          n_jobs=None, penalty='l2',\n",
       "                                          random_state=None, solver='lbfgs',\n",
       "                                          tol=0.0001, verbose=0,\n",
       "                                          warm_start=False),\n",
       "             iid='deprecated', n_jobs=None,\n",
       "             param_grid={'C': [0.001, 0.01, 0.1, 1, 10, 100, 1000]},\n",
       "             pre_dispatch='2*n_jobs', refit=True, return_train_score=True,\n",
       "             scoring='roc_auc', verbose=0)"
      ]
     },
     "execution_count": 18,
     "metadata": {},
     "output_type": "execute_result"
    }
   ],
   "source": [
    "param_grid = {'C': [0.001, 0.01, 0.1, 1, 10, 100, 1000] }\n",
    "classifier = GridSearchCV(LogisticRegression(), param_grid,cv=10,scoring='roc_auc',return_train_score=True)\n",
    "classifier.fit(X_tr_features_to_keep_ET, y_train)"
   ]
  },
  {
   "cell_type": "code",
   "execution_count": 19,
   "metadata": {},
   "outputs": [
    {
     "data": {
      "image/png": "[encoded data removed]",
      "text/plain": [
       "<Figure size 432x288 with 1 Axes>"
      ]
     },
     "metadata": {
      "needs_background": "light"
     },
     "output_type": "display_data"
    }
   ],
   "source": [
    "results_tf = pd.DataFrame.from_dict(classifier.cv_results_)\n",
    "results_tf = results_tf.sort_values(['param_C'])\n",
    "train_auc= results_tf['mean_train_score']\n",
    "train_auc_std= results_tf['std_train_score']\n",
    "cv_auc = results_tf['mean_test_score'] \n",
    "cv_auc_std= results_tf['std_test_score']\n",
    "A =  results_tf['param_C']\n",
    "plt.plot(A, train_auc, label='Train AUC')\n",
    "\n",
    "\n",
    "plt.plot(A, cv_auc, label='CV AUC')\n",
    "\n",
    "plt.scatter(A, train_auc, label='Train AUC points')\n",
    "plt.scatter(A, cv_auc, label='CV AUC points')\n",
    "plt.xscale('log')\n",
    "\n",
    "plt.legend()\n",
    "plt.xlabel(\"C: hyperparameter\")\n",
    "plt.ylabel(\"AUC\")\n",
    "plt.title(\"Hyper parameter Vs AUC plot\")\n",
    "plt.grid()\n",
    "plt.show()"
   ]
  },
  {
   "cell_type": "code",
   "execution_count": 20,
   "metadata": {},
   "outputs": [
    {
     "name": "stdout",
     "output_type": "stream",
     "text": [
      "Best Hyperparameter:  {'C': 0.001}\n"
     ]
    }
   ],
   "source": [
    "best_param=classifier.best_params_\n",
    "print(\"Best Hyperparameter: \",best_param)\n",
    "p_C=best_param['C']"
   ]
  },
  {
   "cell_type": "code",
   "execution_count": 21,
   "metadata": {},
   "outputs": [
    {
     "data": {
      "image/png": "[encoded data removed]",
      "text/plain": [
       "<Figure size 432x288 with 1 Axes>"
      ]
     },
     "metadata": {
      "needs_background": "light"
     },
     "output_type": "display_data"
    }
   ],
   "source": [
    "from sklearn.metrics import roc_curve, auc\n",
    "\n",
    "\n",
    "Log_model = LogisticRegression(C=p_C)\n",
    "Log_model.fit(X_tr_features_to_keep_ET, y_train)\n",
    "\n",
    "\n",
    "y_train_pred = Log_model.predict_proba(X_tr_features_to_keep_ET)    \n",
    "y_test_pred = Log_model.predict_proba(X_te_features_to_keep_ET)\n",
    "\n",
    "train_fpr, train_tpr, tr_thresholds = roc_curve(y_train, y_train_pred[:,1])\n",
    "test_fpr, test_tpr, te_thresholds = roc_curve(y_test, y_test_pred[:,1])\n",
    "\n",
    "plt.plot(train_fpr, train_tpr, label=\"train AUC =\"+str(auc(train_fpr, train_tpr)))\n",
    "plt.plot(test_fpr, test_tpr, label=\"test AUC =\"+str(auc(test_fpr, test_tpr)))\n",
    "plt.legend()\n",
    "plt.xlabel(\"FPR\")\n",
    "plt.ylabel(\"TPR\")\n",
    "plt.title(\"AUC ROC Curve\")\n",
    "plt.grid()\n",
    "plt.show()"
   ]
  },
  {
   "cell_type": "code",
   "execution_count": 22,
   "metadata": {},
   "outputs": [
    {
     "name": "stdout",
     "output_type": "stream",
     "text": [
      "Recall for logistic regression model: 1.0\n",
      "Precision for logistic regression model: 0.6896551724137931\n",
      "Accuracy for logistic regression model: 0.6896551724137931\n",
      "F-score for logistic regression model: 0.8163265306122449\n",
      "Log-loss for logistic regression model: 10.719178756243721\n"
     ]
    }
   ],
   "source": [
    "#y_test_predict=predict_with_best_t(y_test_pred[:,1], best_t)\n",
    "y_test_predict=Log_model.predict(X_te_features_to_keep_ET)\n",
    "print(\"Recall for logistic regression model:\",metrics.recall_score(y_test,y_test_predict))\n",
    "print(\"Precision for logistic regression model:\",metrics.precision_score(y_test,y_test_predict))\n",
    "print(\"Accuracy for logistic regression model:\",metrics.accuracy_score(y_test,y_test_predict))\n",
    "print(\"F-score for logistic regression model:\",metrics.f1_score(y_test,y_test_predict))\n",
    "print(\"Log-loss for logistic regression model:\",metrics.log_loss(y_test,y_test_predict))"
   ]
  },
  {
   "cell_type": "markdown",
   "metadata": {},
   "source": [
    "# Gradient Boosting on Extra Tree Classifier Features"
   ]
  },
  {
   "cell_type": "code",
   "execution_count": 23,
   "metadata": {},
   "outputs": [
    {
     "data": {
      "text/plain": [
       "GridSearchCV(cv=5, error_score=nan,\n",
       "             estimator=GradientBoostingClassifier(ccp_alpha=0.0,\n",
       "                                                  criterion='friedman_mse',\n",
       "                                                  init=None, learning_rate=0.01,\n",
       "                                                  loss='deviance', max_depth=3,\n",
       "                                                  max_features=None,\n",
       "                                                  max_leaf_nodes=None,\n",
       "                                                  min_impurity_decrease=0.0,\n",
       "                                                  min_impurity_split=None,\n",
       "                                                  min_samples_leaf=1,\n",
       "                                                  min_samples_split=2,\n",
       "                                                  min_weight_fraction_leaf=0.0,\n",
       "                                                  n_estimators=100,\n",
       "                                                  n_iter_no_...e=None,\n",
       "                                                  presort='deprecated',\n",
       "                                                  random_state=None,\n",
       "                                                  subsample=1.0, tol=0.0001,\n",
       "                                                  validation_fraction=0.1,\n",
       "                                                  verbose=0, warm_start=False),\n",
       "             iid='deprecated', n_jobs=None,\n",
       "             param_grid={'max_depth': [1, 2, 3, 4, 5, 6, 7, 8, 9, 10],\n",
       "                         'max_features': [1, 2, 3],\n",
       "                         'n_estimators': [150, 200, 500, 1000, 1500, 2000]},\n",
       "             pre_dispatch='2*n_jobs', refit=True, return_train_score=False,\n",
       "             scoring=None, verbose=0)"
      ]
     },
     "execution_count": 23,
     "metadata": {},
     "output_type": "execute_result"
    }
   ],
   "source": [
    "n_estimators=[150,200,500,1000,1500,2000]\n",
    "max_features=[1,2,3]\n",
    "max_depth=[1,2,3,4,5,6,7,8,9,10]\n",
    "param_grid = {'n_estimators': n_estimators,'max_features':max_features,'max_depth':max_depth}\n",
    "grid_search_gbm = GridSearchCV(GradientBoostingClassifier(learning_rate= 0.01), param_grid, cv=5)\n",
    "grid_search_gbm.fit(X_tr_features_to_keep_ET,y_train)"
   ]
  },
  {
   "cell_type": "code",
   "execution_count": 24,
   "metadata": {},
   "outputs": [
    {
     "name": "stdout",
     "output_type": "stream",
     "text": [
      "Best Hyperparameter:  {'max_depth': 1, 'max_features': 2, 'n_estimators': 500}\n"
     ]
    }
   ],
   "source": [
    "best_param=grid_search_gbm.best_params_\n",
    "print(\"Best Hyperparameter: \",best_param)"
   ]
  },
  {
   "cell_type": "code",
   "execution_count": 25,
   "metadata": {},
   "outputs": [
    {
     "data": {
      "image/png": "[encoded data removed]",
      "text/plain": [
       "<Figure size 432x288 with 1 Axes>"
      ]
     },
     "metadata": {
      "needs_background": "light"
     },
     "output_type": "display_data"
    }
   ],
   "source": [
    "from sklearn.metrics import roc_curve, auc\n",
    "\n",
    "GRAD_model= GradientBoostingClassifier(learning_rate=0.01,n_estimators=best_param['n_estimators'],max_features=best_param['max_features'],max_depth=best_param['max_depth'])\n",
    "#DT = DecisionTreeClassifier(max_depth=50,min_samples_split=5)\n",
    "GRAD_model.fit(X_tr_features_to_keep_ET, y_train)\n",
    "\n",
    "\n",
    "y_train_pred = GRAD_model.predict_proba(X_tr_features_to_keep_ET)    \n",
    "y_test_pred = GRAD_model.predict_proba(X_te_features_to_keep_ET)\n",
    "\n",
    "train_fpr, train_tpr, tr_thresholds = roc_curve(y_train, y_train_pred[:,1])\n",
    "test_fpr, test_tpr, te_thresholds = roc_curve(y_test, y_test_pred[:,1])\n",
    "\n",
    "plt.plot(train_fpr, train_tpr, label=\"train AUC =\"+str(auc(train_fpr, train_tpr)))\n",
    "plt.plot(test_fpr, test_tpr, label=\"test AUC =\"+str(auc(test_fpr, test_tpr)))\n",
    "plt.legend()\n",
    "plt.xlabel(\"FPR\")\n",
    "plt.ylabel(\"TPR\")\n",
    "plt.title(\"AUC ROC Curve\")\n",
    "plt.grid()\n",
    "plt.show()"
   ]
  },
  {
   "cell_type": "code",
   "execution_count": 26,
   "metadata": {},
   "outputs": [
    {
     "name": "stdout",
     "output_type": "stream",
     "text": [
      "Recall for  Gradient model: 0.9785714285714285\n",
      "Precision for Gradient model: 0.7828571428571428\n",
      "Accuracy for Gradient model: 0.7980295566502463\n",
      "F-score for Gradient model: 0.8698412698412699\n",
      "Log-loss for Gradient model: 6.975961659574806\n"
     ]
    }
   ],
   "source": [
    "y_test_predict=GRAD_model.predict(X_te_features_to_keep_ET)\n",
    "print(\"Recall for  Gradient model:\",metrics.recall_score(y_test,y_test_predict))\n",
    "print(\"Precision for Gradient model:\",metrics.precision_score(y_test,y_test_predict))\n",
    "print(\"Accuracy for Gradient model:\",metrics.accuracy_score(y_test,y_test_predict))\n",
    "print(\"F-score for Gradient model:\",metrics.f1_score(y_test,y_test_predict))\n",
    "print(\"Log-loss for Gradient model:\",metrics.log_loss(y_test,y_test_predict))"
   ]
  },
  {
   "cell_type": "markdown",
   "metadata": {},
   "source": [
    "# XGBoost on Extra Tree Classifier Features"
   ]
  },
  {
   "cell_type": "code",
   "execution_count": 27,
   "metadata": {},
   "outputs": [
    {
     "data": {
      "text/plain": [
       "GridSearchCV(cv=3, error_score=nan,\n",
       "             estimator=XGBClassifier(base_score=None, booster=None,\n",
       "                                     colsample_bylevel=None,\n",
       "                                     colsample_bynode=None,\n",
       "                                     colsample_bytree=None, gamma=None,\n",
       "                                     gpu_id=None, importance_type='gain',\n",
       "                                     interaction_constraints=None,\n",
       "                                     learning_rate=0.01, max_delta_step=None,\n",
       "                                     max_depth=None, min_child_weight=None,\n",
       "                                     missing=nan, monotone_constraints=None,\n",
       "                                     n_estim...\n",
       "                                     reg_lambda=None, scale_pos_weight=None,\n",
       "                                     subsample=None, tree_method=None,\n",
       "                                     validate_parameters=False,\n",
       "                                     verbosity=None),\n",
       "             iid='deprecated', n_jobs=None,\n",
       "             param_grid={'gamma': [0.001, 0.01, 0.1, 1],\n",
       "                         'max_depth': [1, 2, 3, 4, 5, 6, 7, 8, 9, 10],\n",
       "                         'max_features': [1, 2, 3],\n",
       "                         'n_estimators': [150, 200, 500, 1000, 1500, 2000]},\n",
       "             pre_dispatch='2*n_jobs', refit=True, return_train_score=False,\n",
       "             scoring=None, verbose=0)"
      ]
     },
     "execution_count": 27,
     "metadata": {},
     "output_type": "execute_result"
    }
   ],
   "source": [
    "n_estimators=[150,200,500,1000,1500,2000]\n",
    "max_features=[1,2,3]\n",
    "max_depth=[1,2,3,4,5,6,7,8,9,10]\n",
    "gammas = [0.001, 0.01, 0.1, 1]\n",
    "learning_rate_val=[0.01,0.1,1,10,100]\n",
    "param_grid = {'n_estimators': n_estimators,'max_features':max_features,'max_depth':max_depth,'gamma':gammas}\n",
    "grid_search_xg = GridSearchCV(XGBClassifier(learning_rate=0.01), param_grid, cv=3)\n",
    "grid_search_xg.fit(X_tr_features_to_keep_ET,y_train)"
   ]
  },
  {
   "cell_type": "code",
   "execution_count": 28,
   "metadata": {},
   "outputs": [
    {
     "name": "stdout",
     "output_type": "stream",
     "text": [
      "Best Hyperparameter:  {'gamma': 0.001, 'max_depth': 1, 'max_features': 1, 'n_estimators': 150}\n"
     ]
    }
   ],
   "source": [
    "best_param=grid_search_xg.best_params_\n",
    "print(\"Best Hyperparameter: \",best_param)"
   ]
  },
  {
   "cell_type": "code",
   "execution_count": 29,
   "metadata": {},
   "outputs": [
    {
     "data": {
      "image/png": "[encoded data removed]",
      "text/plain": [
       "<Figure size 432x288 with 1 Axes>"
      ]
     },
     "metadata": {
      "needs_background": "light"
     },
     "output_type": "display_data"
    }
   ],
   "source": [
    "from sklearn.metrics import roc_curve, auc\n",
    "\n",
    "XGB_model= XGBClassifier(learning_rate=0.01,n_estimators=best_param['n_estimators'],max_features=best_param['max_features'],max_depth=best_param['max_depth'],gammas=best_param['gamma'])\n",
    "#DT = DecisionTreeClassifier(max_depth=50,min_samples_split=5)\n",
    "XGB_model.fit(X_tr_features_to_keep_ET, y_train)\n",
    "\n",
    "\n",
    "y_train_pred = XGB_model.predict_proba(X_tr_features_to_keep_ET)    \n",
    "y_test_pred = XGB_model.predict_proba(X_te_features_to_keep_ET)\n",
    "\n",
    "train_fpr, train_tpr, tr_thresholds = roc_curve(y_train, y_train_pred[:,1])\n",
    "test_fpr, test_tpr, te_thresholds = roc_curve(y_test, y_test_pred[:,1])\n",
    "\n",
    "plt.plot(train_fpr, train_tpr, label=\"train AUC =\"+str(auc(train_fpr, train_tpr)))\n",
    "plt.plot(test_fpr, test_tpr, label=\"test AUC =\"+str(auc(test_fpr, test_tpr)))\n",
    "plt.legend()\n",
    "plt.xlabel(\"FPR\")\n",
    "plt.ylabel(\"TPR\")\n",
    "plt.title(\"AUC ROC Curve\")\n",
    "plt.grid()\n",
    "plt.show()"
   ]
  },
  {
   "cell_type": "code",
   "execution_count": 30,
   "metadata": {},
   "outputs": [
    {
     "name": "stdout",
     "output_type": "stream",
     "text": [
      "Recall for  XGBoost model: 0.9785714285714285\n",
      "Precision for XGBoost model: 0.7784090909090909\n",
      "Accuracy for XGBoost model: 0.7931034482758621\n",
      "F-score for XGBoost model: 0.8670886075949368\n",
      "Log-loss for XGBoost model: 7.146107354118357\n"
     ]
    }
   ],
   "source": [
    "y_test_predict=XGB_model.predict(X_te_features_to_keep_ET)\n",
    "print(\"Recall for  XGBoost model:\",metrics.recall_score(y_test,y_test_predict))\n",
    "print(\"Precision for XGBoost model:\",metrics.precision_score(y_test,y_test_predict))\n",
    "print(\"Accuracy for XGBoost model:\",metrics.accuracy_score(y_test,y_test_predict))\n",
    "print(\"F-score for XGBoost model:\",metrics.f1_score(y_test,y_test_predict))\n",
    "print(\"Log-loss for XGBoost model:\",metrics.log_loss(y_test,y_test_predict))"
   ]
  },
  {
   "cell_type": "markdown",
   "metadata": {},
   "source": [
    "# AdaBoost Classifier"
   ]
  },
  {
   "cell_type": "code",
   "execution_count": 31,
   "metadata": {},
   "outputs": [
    {
     "data": {
      "text/plain": [
       "GridSearchCV(cv=5, error_score=nan,\n",
       "             estimator=AdaBoostClassifier(algorithm='SAMME.R',\n",
       "                                          base_estimator=ExtraTreesClassifier(bootstrap=False,\n",
       "                                                                              ccp_alpha=0.0,\n",
       "                                                                              class_weight=None,\n",
       "                                                                              criterion='entropy',\n",
       "                                                                              max_depth=5,\n",
       "                                                                              max_features='auto',\n",
       "                                                                              max_leaf_nodes=None,\n",
       "                                                                              max_samples=None,\n",
       "                                                                              min_impurity_decrease=0.0,\n",
       "                                                                              min_impurity_split=None,\n",
       "                                                                              min_samples_leaf=10,\n",
       "                                                                              min_samples_split=250,\n",
       "                                                                              min_weight_fraction_leaf=0.0,\n",
       "                                                                              n_estimators=100,\n",
       "                                                                              n_jobs=None,\n",
       "                                                                              oob_score=False,\n",
       "                                                                              random_state=None,\n",
       "                                                                              verbose=0,\n",
       "                                                                              warm_start=False),\n",
       "                                          learning_rate=0.01, n_estimators=50,\n",
       "                                          random_state=None),\n",
       "             iid='deprecated', n_jobs=None,\n",
       "             param_grid={'n_estimators': [150, 200, 500, 1000, 1500, 2000]},\n",
       "             pre_dispatch='2*n_jobs', refit=True, return_train_score=False,\n",
       "             scoring=None, verbose=0)"
      ]
     },
     "execution_count": 31,
     "metadata": {},
     "output_type": "execute_result"
    }
   ],
   "source": [
    "n_estimators=[150,200,500,1000,1500,2000]\n",
    "param_grid = {'n_estimators': n_estimators}\n",
    "grid_search_ada = GridSearchCV(AdaBoostClassifier(ET_model,learning_rate= 0.01), param_grid, cv=5)\n",
    "grid_search_ada.fit(X_tr_features_to_keep_ET,y_train)"
   ]
  },
  {
   "cell_type": "code",
   "execution_count": 32,
   "metadata": {},
   "outputs": [
    {
     "name": "stdout",
     "output_type": "stream",
     "text": [
      "Best Hyperparameter:  {'n_estimators': 150}\n"
     ]
    }
   ],
   "source": [
    "best_param=grid_search_ada.best_params_\n",
    "print(\"Best Hyperparameter: \",best_param)"
   ]
  },
  {
   "cell_type": "code",
   "execution_count": 33,
   "metadata": {},
   "outputs": [
    {
     "data": {
      "image/png": "[encoded data removed]",
      "text/plain": [
       "<Figure size 432x288 with 1 Axes>"
      ]
     },
     "metadata": {
      "needs_background": "light"
     },
     "output_type": "display_data"
    }
   ],
   "source": [
    "from sklearn.metrics import roc_curve, auc\n",
    "\n",
    "#GRAD_model= GradientBoostingClassifier(learning_rate=0.01,n_estimators=best_param['n_estimators'],max_features=best_param['max_features'],max_depth=best_param['max_depth'])\n",
    "#DT = DecisionTreeClassifier(max_depth=50,min_samples_split=5)\n",
    "Ada_Model=AdaBoostClassifier(ET_model,learning_rate= 0.01,n_estimators=best_param['n_estimators'])\n",
    "Ada_Model.fit(X_tr_features_to_keep_ET, y_train)\n",
    "\n",
    "\n",
    "y_train_pred = Ada_Model.predict_proba(X_tr_features_to_keep_ET)    \n",
    "y_test_pred = Ada_Model.predict_proba(X_te_features_to_keep_ET)\n",
    "\n",
    "train_fpr, train_tpr, tr_thresholds = roc_curve(y_train, y_train_pred[:,1])\n",
    "test_fpr, test_tpr, te_thresholds = roc_curve(y_test, y_test_pred[:,1])\n",
    "\n",
    "plt.plot(train_fpr, train_tpr, label=\"train AUC =\"+str(auc(train_fpr, train_tpr)))\n",
    "plt.plot(test_fpr, test_tpr, label=\"test AUC =\"+str(auc(test_fpr, test_tpr)))\n",
    "plt.legend()\n",
    "plt.xlabel(\"FPR\")\n",
    "plt.ylabel(\"TPR\")\n",
    "plt.title(\"AUC ROC Curve\")\n",
    "plt.grid()\n",
    "plt.show()"
   ]
  },
  {
   "cell_type": "code",
   "execution_count": 34,
   "metadata": {},
   "outputs": [
    {
     "name": "stdout",
     "output_type": "stream",
     "text": [
      "Recall for  Gradient model: 0.9785714285714285\n",
      "Precision for Gradient model: 0.7784090909090909\n",
      "Accuracy for Gradient model: 0.7931034482758621\n",
      "F-score for Gradient model: 0.8670886075949368\n",
      "Log-loss for Gradient model: 7.146107354118357\n"
     ]
    }
   ],
   "source": [
    "y_test_predict=Ada_Model.predict(X_te_features_to_keep_ET)\n",
    "print(\"Recall for  AdaBoost model:\",metrics.recall_score(y_test,y_test_predict))\n",
    "print(\"Precision for AdaBoost model:\",metrics.precision_score(y_test,y_test_predict))\n",
    "print(\"Accuracy for AdaBoost model:\",metrics.accuracy_score(y_test,y_test_predict))\n",
    "print(\"F-score for AdaBoost model:\",metrics.f1_score(y_test,y_test_predict))\n",
    "print(\"Log-loss for AdaBoost model:\",metrics.log_loss(y_test,y_test_predict))"
   ]
  },
  {
   "cell_type": "code",
   "execution_count": null,
   "metadata": {},
   "outputs": [],
   "source": []
  },
  {
   "cell_type": "code",
   "execution_count": null,
   "metadata": {},
   "outputs": [],
   "source": []
  }
 ],
 "metadata": {
  "kernelspec": {
   "display_name": "Python 3",
   "language": "python",
   "name": "python3"
  },
  "language_info": {
   "codemirror_mode": {
    "name": "ipython",
    "version": 3
   },
   "file_extension": ".py",
   "mimetype": "text/x-python",
   "name": "python",
   "nbconvert_exporter": "python",
   "pygments_lexer": "ipython3",
   "version": "3.7.4"
  }
 },
 "nbformat": 4,
 "nbformat_minor": 2
}
